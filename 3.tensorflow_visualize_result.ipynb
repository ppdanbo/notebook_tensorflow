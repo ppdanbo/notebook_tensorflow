{
 "cells": [
  {
   "cell_type": "markdown",
   "id": "outstanding-berlin",
   "metadata": {},
   "source": [
    "**Introduction**\n",
    "\n",
    "TensorFlow includes a visualization tool called TensorBoard. It allows you to visualize TensorFlow graphs, histograms of variables at each step of the learning process, and more. You will annotate the neural network with operations to log summaries while the network is being trained. You will then use TensorBoard to read the logs and generate visualizations of the graph and learning process.\n",
    "\n",
    "The summaries read by TensorBoard are created using the tf.summary module. There are functions in the module to write summaries for tensors (scalar), histograms, audio, and images. You will write summaries for tensors and histograms, but the other summary types are useful when working with audio or image data. Recall that TensorFlow uses a deferred execution model by first building a graph and then evaluating the graph to obtain results. Because summary operations aren't depended upon for computing results, they are only logging state information, the summary operations need to be explicitly evaluated in addition to evaluating output of your graph. The summary module includes a merge_all function to merge all summary operations into a single operation that you can conveniently evaluate instead of evaluating all individual summary operations. You will see how to evaluate both the summaries and the model training in the example code below."
   ]
  },
  {
   "cell_type": "code",
   "execution_count": 1,
   "id": "allied-colombia",
   "metadata": {},
   "outputs": [
    {
     "name": "stdout",
     "output_type": "stream",
     "text": [
      "WARNING:tensorflow:From C:\\Users\\dbwab\\.conda\\envs\\ztdl\\lib\\site-packages\\tensorflow\\python\\framework\\op_def_library.py:263: colocate_with (from tensorflow.python.framework.ops) is deprecated and will be removed in a future version.\n",
      "Instructions for updating:\n",
      "Colocations handled automatically by placer.\n",
      "Complete\n"
     ]
    }
   ],
   "source": [
    "'''Single neuron neural network with TensorBoard annotations'''\n",
    "\n",
    "from __future__ import print_function\n",
    "import numpy as np\n",
    "import tensorflow as tf\n",
    "\n",
    "# Start with a clean environment each run\n",
    "log_dir = '/tmp/tensorflow/nn/train' # TensorBoard logs saved here \n",
    "if tf.gfile.Exists(log_dir):\n",
    "  tf.gfile.DeleteRecursively(log_dir)\n",
    "tf.gfile.MakeDirs(log_dir)\n",
    "tf.reset_default_graph()\n",
    "\n",
    "def variable_summaries(name, var):\n",
    "  \"\"\"Attach a lot of summaries to a Tensor (for TensorBoard visualization).\"\"\"\n",
    "  with tf.name_scope('weights'):\n",
    "    with tf.name_scope('summaries'):\n",
    "      mean = tf.reduce_mean(var)\n",
    "      tf.summary.scalar('mean', mean)\n",
    "      stddev = tf.sqrt(tf.reduce_mean(tf.square(var - mean)))\n",
    "      tf.summary.scalar('stddev', stddev)\n",
    "      tf.summary.scalar('max', tf.reduce_max(var))\n",
    "      tf.summary.scalar('min', tf.reduce_min(var))\n",
    "      tf.summary.histogram('histogram', var)\n",
    "\n",
    "# Set up sample points perturbed away from the ideal linear relationship \n",
    "# y = 0.5*x + 2.5\n",
    "num_examples = 60\n",
    "points = np.array([np.linspace(-1, 5, num_examples),\n",
    "  np.linspace(2, 5, num_examples)])\n",
    "points += np.random.randn(2, num_examples)\n",
    "x, y = points\n",
    "# Include a 1 to use as the bias input for neurons\n",
    "x_with_bias = np.array([(1., d) for d in x]).astype(np.float32)\n",
    "\n",
    "# Training parameters\n",
    "training_steps = 100\n",
    "learning_rate = 0.001\n",
    "losses = []\n",
    "\n",
    "with tf.Session() as sess:\n",
    "  # Set up all the tensors, variables, and operations.\n",
    "  input = tf.constant(x_with_bias)\n",
    "  target = tf.constant(np.transpose([y]).astype(np.float32))\n",
    "  # Initialize weights with small random values\n",
    "  weights = tf.Variable(tf.random_normal([2, 1], 0, 0.1))\n",
    "\n",
    "  tf.global_variables_initializer().run()\n",
    "\n",
    "  # Calculate the current prediction error\n",
    "  y_predicted = tf.matmul(input, weights)\n",
    "  y_error = tf.subtract(y_predicted, target)\n",
    "\n",
    "  # Compute the L2 loss function of the error\n",
    "  loss = tf.nn.l2_loss(y_error)\n",
    " \n",
    "  # Train the network using an optimizer that minimizes the loss function\n",
    "  update_weights = tf.train.GradientDescentOptimizer(\n",
    "  learning_rate).minimize(loss)\n",
    "\n",
    "  # Add summary operations\n",
    "  variable_summaries('weights', weights)\n",
    "  tf.summary.histogram('y_error', y_error)\n",
    "  tf.summary.scalar('loss', loss)\n",
    "  merged = tf.summary.merge_all()\n",
    "  summary_writer = tf.summary.FileWriter(log_dir, graph=tf.get_default_graph())\n",
    " \n",
    "  for i in range(training_steps):\n",
    "    # Repeatedly run the summary and training operations\n",
    "    summary, updates = sess.run([merged, update_weights])\n",
    "    summary_writer.add_summary(summary, i)\n",
    "\n",
    "  summary_writer.close()\n",
    "\n",
    "print('Complete')"
   ]
  },
  {
   "cell_type": "markdown",
   "id": "entertaining-stereo",
   "metadata": {},
   "source": [
    "**The code varies from the previous Lab Step's mainly by:**\n",
    "\n",
    "- Including a function called variable_summaries that adds summary operations for the mean, min, max, standard deviation, and histogram of a tensor's values\n",
    "- Including code to add summary operations and write the summaries to disk in the log_dir directory every iteration of the for loop (The code under the # Add summary operations comment)\n",
    "- Removing the matplotlib plotting code since TensorBoard will create the visualizations automatically from the summary operations\n",
    "\n",
    "You use a new way to evaluate the graph with this code. The following line is used to evaluate the graph:\n",
    "\n",
    "    summary, updates = sess.run([merged, update_weights])\n",
    "\n",
    "The session's run function evaluates the operations include in its argument, in this case, the merged summary and the update_weights training operations. All of the graph dependencies of the operations are also evaluated resulting in evaluating all of the graph operations."
   ]
  },
  {
   "cell_type": "markdown",
   "id": "vital-turner",
   "metadata": {},
   "source": [
    "Command to start tensorband: \n",
    "export LC_ALL=\"en_US.UTF-8\"\n",
    "export LC_CTYPE=\"en_US.UTF-8\"\n",
    "tensorboard --logdir /tmp/tensorflow/nn\n",
    "    "
   ]
  },
  {
   "cell_type": "markdown",
   "id": "technical-fleece",
   "metadata": {},
   "source": [
    "![tensorflow3.png](attachment:image.png)"
   ]
  },
  {
   "cell_type": "code",
   "execution_count": null,
   "id": "accredited-taste",
   "metadata": {},
   "outputs": [],
   "source": []
  }
 ],
 "metadata": {
  "kernelspec": {
   "display_name": "Python 3",
   "language": "python",
   "name": "python3"
  },
  "language_info": {
   "codemirror_mode": {
    "name": "ipython",
    "version": 3
   },
   "file_extension": ".py",
   "mimetype": "text/x-python",
   "name": "python",
   "nbconvert_exporter": "python",
   "pygments_lexer": "ipython3",
   "version": "3.7.9"
  }
 },
 "nbformat": 4,
 "nbformat_minor": 5
}
