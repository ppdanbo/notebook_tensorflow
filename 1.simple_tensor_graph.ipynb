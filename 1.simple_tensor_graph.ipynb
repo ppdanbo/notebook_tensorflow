{
 "cells": [
  {
   "cell_type": "code",
   "execution_count": 1,
   "id": "signed-wings",
   "metadata": {},
   "outputs": [],
   "source": [
    "from  __future__ import print_function\n",
    "import tensorflow as tf"
   ]
  },
  {
   "cell_type": "code",
   "execution_count": 2,
   "id": "defensive-devices",
   "metadata": {},
   "outputs": [],
   "source": [
    "# Explicitly create a computation graph\n",
    "graph = tf.Graph()\n",
    "with graph.as_default():\n",
    "    # Declare one-dimensional tensors (vectors)\n",
    "    input1 = tf.constant([1.0, 2.0])\n",
    "    input2 = tf.constant([3.0, 4.0])\n",
    "    # Add the two tensors\n",
    "    output = tf.add(input1, input2)"
   ]
  },
  {
   "cell_type": "code",
   "execution_count": 3,
   "id": "tamil-heading",
   "metadata": {},
   "outputs": [
    {
     "name": "stdout",
     "output_type": "stream",
     "text": [
      "[<tf.Operation 'Const' type=Const>, <tf.Operation 'Const_1' type=Const>, <tf.Operation 'Add' type=Add>]\n",
      "result:  [4. 6.]\n"
     ]
    }
   ],
   "source": [
    "print(graph.get_operations())\n",
    "\n",
    "# Evaluate the graph in a session\n",
    "with tf.Session(graph = graph):\n",
    "    result = output.eval()\n",
    "    print(\"result: \", result)"
   ]
  },
  {
   "cell_type": "code",
   "execution_count": 4,
   "id": "prescribed-representative",
   "metadata": {},
   "outputs": [],
   "source": [
    "matmul_graph = tf.Graph()\n",
    "with matmul_graph.as_default():\n",
    "    # Declare a 2x2 matrix and a 2x1 vector\n",
    "    matrix = tf.constant([[1.0, 2.0], [3.0, 4.0]])\n",
    "    vector = tf.constant([[1.0], [2.0]])\n",
    "    # Matrix multiply (matmul) the two tensors\n",
    "    output = tf.matmul(matrix, vector)\n",
    "\n",
    " "
   ]
  },
  {
   "cell_type": "code",
   "execution_count": 5,
   "id": "judicial-solid",
   "metadata": {},
   "outputs": [
    {
     "name": "stdout",
     "output_type": "stream",
     "text": [
      "[[ 5.]\n",
      " [11.]]\n",
      "WARNING:tensorflow:From C:\\Users\\dbwab\\.conda\\envs\\ztdl\\lib\\site-packages\\tensorflow\\python\\framework\\op_def_library.py:263: colocate_with (from tensorflow.python.framework.ops) is deprecated and will be removed in a future version.\n",
      "Instructions for updating:\n",
      "Colocations handled automatically by placer.\n",
      "[[16.]\n",
      " [16.]]\n"
     ]
    }
   ],
   "source": [
    "with tf.Session(graph = matmul_graph):\n",
    "    result = output.eval()\n",
    "    print(result)\n",
    "\n",
    "# Evaluate a matrix-vector multiplication\n",
    "var_graph = tf.Graph()\n",
    "with var_graph.as_default():\n",
    "    # Declare a constant 2x2 matrix and a variable 2x1 vector\n",
    "    matrix = tf.constant([[1.0, 1.0], [1.0, 1.0]])\n",
    "    vector = tf.Variable([[1.0], [1.0]])\n",
    "    # Multiply the matrix and vector 4 times\n",
    "    for _ in range(4):\n",
    "        # Repeatedly update vector with the multiplication result\n",
    "        vector = tf.matmul(matrix, vector)\n",
    "\n",
    "\n",
    "with tf.Session(graph = var_graph):\n",
    "    # Initialize the variables we defined above.\n",
    "    tf.global_variables_initializer().run()\n",
    "    result = vector.eval()\n",
    "    print(result)\n",
    "\n",
    "\n",
    "exit()"
   ]
  },
  {
   "cell_type": "code",
   "execution_count": null,
   "id": "grand-recorder",
   "metadata": {},
   "outputs": [],
   "source": []
  }
 ],
 "metadata": {
  "kernelspec": {
   "display_name": "Python 3",
   "language": "python",
   "name": "python3"
  },
  "language_info": {
   "codemirror_mode": {
    "name": "ipython",
    "version": 3
   },
   "file_extension": ".py",
   "mimetype": "text/x-python",
   "name": "python",
   "nbconvert_exporter": "python",
   "pygments_lexer": "ipython3",
   "version": "3.7.9"
  }
 },
 "nbformat": 4,
 "nbformat_minor": 5
}
